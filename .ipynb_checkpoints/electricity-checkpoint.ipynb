{
 "cells": [
  {
   "cell_type": "markdown",
   "metadata": {},
   "source": [
    "### Loading libs"
   ]
  },
  {
   "cell_type": "code",
   "execution_count": 2,
   "metadata": {},
   "outputs": [],
   "source": [
    "import torch\n",
    "from torch import nn\n",
    "from torch import distributions\n",
    "from torch.nn.parameter import Parameter\n",
    "from torch.utils.data import DataLoader, Dataset\n",
    "\n",
    "from sklearn import cluster, datasets, mixture\n",
    "from latentcor.latentcor import *\n",
    "from scipy.stats import kendalltau\n",
    "from utils.nearcorr import *\n",
    "\n",
    "import itertools as it\n",
    "import numpy as np\n",
    "import matplotlib.pyplot as plt\n",
    "import pandas as pd\n",
    "import time\n",
    "import os"
   ]
  },
  {
   "cell_type": "code",
   "execution_count": 3,
   "metadata": {},
   "outputs": [],
   "source": [
    "from statsmodels.tsa.arima.model import ARIMA"
   ]
  },
  {
   "cell_type": "code",
   "execution_count": 4,
   "metadata": {},
   "outputs": [],
   "source": [
    "from tqdm import tqdm"
   ]
  },
  {
   "cell_type": "code",
   "execution_count": 5,
   "metadata": {},
   "outputs": [
    {
     "data": {
      "text/plain": [
       "<torch._C.Generator at 0x7f82d80e5bb0>"
      ]
     },
     "execution_count": 5,
     "metadata": {},
     "output_type": "execute_result"
    }
   ],
   "source": [
    "import torch\n",
    "torch.manual_seed(0)"
   ]
  },
  {
   "cell_type": "markdown",
   "metadata": {},
   "source": [
    "### Reading data"
   ]
  },
  {
   "cell_type": "code",
   "execution_count": 6,
   "metadata": {},
   "outputs": [],
   "source": [
    "dataset = pd.read_table(\"./electricity/LD2011_2014.txt\", sep =\";\")"
   ]
  },
  {
   "cell_type": "code",
   "execution_count": 7,
   "metadata": {},
   "outputs": [],
   "source": [
    "dataset = dataset.iloc[:, 1:].values.astype(np.float32)"
   ]
  },
  {
   "cell_type": "code",
   "execution_count": 8,
   "metadata": {},
   "outputs": [],
   "source": [
    "# convert to kwh\n",
    "dataset = dataset / 4 \n",
    "# sum up 15 minute intervals into 1 hour\n",
    "dataset_hourly = np.zeros((dataset.shape[0] // 4, dataset.shape[1]))\n",
    "for i in range(len(dataset_hourly)):\n",
    "    dataset_hourly[i, :] = np.sum(dataset[(i*4):(i*4+4), :], axis=0)"
   ]
  },
  {
   "cell_type": "code",
   "execution_count": 9,
   "metadata": {},
   "outputs": [],
   "source": [
    "dataset_dict = {}\n",
    "# select continuous segments with at-most 24 hours of 0's\n",
    "for i in range(dataset_hourly.shape[1]):\n",
    "    indices = np.argwhere(dataset_hourly[:, i] != 0).flatten()\n",
    "    dataset_dict[i] = []\n",
    "    segment = [indices[0]]\n",
    "    for j in indices[1:]:\n",
    "        if (j - segment[-1]) <= 24:\n",
    "            segment += [segment[-1] + a for a in range(1, j - segment[-1])]\n",
    "            segment.append(j)\n",
    "        else:\n",
    "            dataset_dict[i].append(segment)\n",
    "            segment = [j]\n",
    "    dataset_dict[i].append(segment)    "
   ]
  },
  {
   "cell_type": "code",
   "execution_count": 10,
   "metadata": {},
   "outputs": [],
   "source": [
    "# select only segments greater than 30 weeks (1 week = 168 hours)\n",
    "for i in dataset_dict.keys():\n",
    "    clean = []\n",
    "    for segment in dataset_dict[i]:\n",
    "        if (segment[-1] - segment[0] + 1) >= (30 * 168):\n",
    "            clean.append(dataset_hourly[segment, i])\n",
    "    dataset_dict[i] = clean"
   ]
  },
  {
   "cell_type": "code",
   "execution_count": 11,
   "metadata": {},
   "outputs": [],
   "source": [
    "# delete subjects with no segments left\n",
    "ks = list(dataset_dict.keys())\n",
    "for k in ks:\n",
    "    if len(dataset_dict[k]) == 0:\n",
    "        del dataset_dict[k]"
   ]
  },
  {
   "cell_type": "code",
   "execution_count": 12,
   "metadata": {},
   "outputs": [],
   "source": [
    "# split into train / val / test\n",
    "dataset_train, dataset_val, dataset_test = {}, {}, {}\n",
    "for k in dataset_dict.keys():\n",
    "    dataset_test[k] = [dataset_dict[k][-1][-(10 * 168):]]\n",
    "    dataset_val[k] = [dataset_dict[k][-1][-(20*168):-(10 * 168)]]\n",
    "    dataset_train[k] = dataset_dict[k][:-1] + [dataset_dict[k][-1][:-(20*168)]]"
   ]
  },
  {
   "cell_type": "code",
   "execution_count": 13,
   "metadata": {},
   "outputs": [],
   "source": [
    "# min-max scaling for each subject separately\n",
    "scaler = {}\n",
    "for k in dataset_train.keys():\n",
    "    minn = np.inf\n",
    "    maxx = -1\n",
    "    for j in dataset_train[k]:\n",
    "        minn = min(np.min(j), minn)\n",
    "        maxx = max(np.max(j), maxx)\n",
    "    scaler[k] = (minn, maxx)"
   ]
  },
  {
   "cell_type": "code",
   "execution_count": 14,
   "metadata": {},
   "outputs": [],
   "source": [
    "# apply scaling\n",
    "for k in dataset_train.keys():\n",
    "    for j in range(len(dataset_train[k])):\n",
    "        dataset_train[k][j] = (dataset_train[k][j] - scaler[k][0]) / (scaler[k][1] - scaler[k][0])\n",
    "    dataset_val[k][0] = (dataset_val[k][0] - scaler[k][0]) / (scaler[k][1] - scaler[k][0])\n",
    "    dataset_test[k][0] = (dataset_test[k][0] - scaler[k][0]) / (scaler[k][1] - scaler[k][0])"
   ]
  },
  {
   "cell_type": "markdown",
   "metadata": {},
   "source": [
    "### Estimate corr"
   ]
  },
  {
   "cell_type": "code",
   "execution_count": 15,
   "metadata": {},
   "outputs": [],
   "source": [
    "def random_spaced(low, high, delta, n, size=None):\n",
    "    \"\"\"\n",
    "    Choose n random values between low and high, with minimum spacing delta.\n",
    "\n",
    "    If size is None, one sample is returned.\n",
    "    Set size=m (an integer) to return m samples.\n",
    "\n",
    "    The values in each sample returned by random_spaced are in increasing\n",
    "    order.\n",
    "    \"\"\"\n",
    "    empty_space = high - low - (n-1)*delta\n",
    "    if empty_space < 0:\n",
    "        raise ValueError(\"not possible\")\n",
    "\n",
    "    if size is None:\n",
    "        u = np.random.rand(n)\n",
    "    else:\n",
    "        u = np.random.rand(size, n)\n",
    "    x = empty_space * np.sort(u, axis=-1)\n",
    "    return low + x + delta * np.arange(n)"
   ]
  },
  {
   "cell_type": "code",
   "execution_count": 60,
   "metadata": {},
   "outputs": [],
   "source": [
    "X = np.empty((len(dataset_train.keys()) * 10, 24*8))\n",
    "for j, k in enumerate(dataset_train.keys()):\n",
    "    start = random_spaced(0, len(dataset_train[k][0])-24*8, 24*8, 10).astype(int)\n",
    "    end = start + 24*8\n",
    "    for i in range(len(start)):\n",
    "        X[j*len(start) + i, :] = dataset_train[k][0][start[i]:end[i]]"
   ]
  },
  {
   "cell_type": "code",
   "execution_count": 63,
   "metadata": {},
   "outputs": [
    {
     "data": {
      "text/plain": [
       "(3690, 192)"
      ]
     },
     "execution_count": 63,
     "metadata": {},
     "output_type": "execute_result"
    }
   ],
   "source": [
    "X.shape"
   ]
  },
  {
   "cell_type": "code",
   "execution_count": 65,
   "metadata": {},
   "outputs": [
    {
     "name": "stderr",
     "output_type": "stream",
     "text": [
      "18336it [00:13, 1330.20it/s]\n"
     ]
    }
   ],
   "source": [
    "length = X.shape[1]\n",
    "\n",
    "values= []\n",
    "for i,j in tqdm(it.combinations(X.T, 2)):\n",
    "    values.append(kendalltau(i, j)[0])\n",
    "\n",
    "est_cov = np.empty((length, length)).astype(np.float32)\n",
    "iu = np.triu_indices(length, 1)\n",
    "il = np.tril_indices(length, -1)\n",
    "dg = np.diag_indices(length)\n",
    "est_cov[iu] = values\n",
    "est_cov[dg] = 1\n",
    "est_cov[il] = est_cov.T[il]\n",
    "est_cov = np.sin((est_cov * np.pi / 2))\n",
    "\n",
    "est_cov = nearcorr(est_cov, max_iterations=1000)\n",
    "est_cov = est_cov*0.9+np.eye(length)*0.1\n",
    "\n",
    "# print(np.linalg.eigvalsh(est_cov)[:10])"
   ]
  },
  {
   "cell_type": "code",
   "execution_count": 68,
   "metadata": {},
   "outputs": [
    {
     "data": {
      "text/plain": [
       "[<matplotlib.lines.Line2D at 0x7f82258b0990>]"
      ]
     },
     "execution_count": 68,
     "metadata": {},
     "output_type": "execute_result"
    },
    {
     "data": {
      "image/png": "[encoded data removed]",
      "text/plain": [
       "<Figure size 432x288 with 1 Axes>"
      ]
     },
     "metadata": {
      "needs_background": "light"
     },
     "output_type": "display_data"
    }
   ],
   "source": [
    "plt.plot(est_cov[0])"
   ]
  },
  {
   "cell_type": "code",
   "execution_count": null,
   "metadata": {},
   "outputs": [],
   "source": [
    "est_cov = torch.tensor(est_cov.astype(np.float32))"
   ]
  },
  {
   "cell_type": "markdown",
   "metadata": {},
   "source": [
    "### Define model"
   ]
  },
  {
   "cell_type": "code",
   "execution_count": null,
   "metadata": {},
   "outputs": [],
   "source": [
    "class RealNVP(nn.Module):\n",
    "    def __init__(self, nets1, nett1, mask1, \n",
    "                 nets2, nett2, mask2, prior1, prior2, pred_mat, cov_cond, pred_len):\n",
    "        super(RealNVP, self).__init__()\n",
    "        \n",
    "        self.pred_len = pred_len\n",
    "        self.pred_mat = nn.Parameter(data=pred_mat, requires_grad=False)\n",
    "        self.cov_cond = nn.Parameter(data=cov_cond, requires_grad=False)\n",
    "        \n",
    "        self.prior1 = prior1\n",
    "        self.prior2 = prior2\n",
    "        \n",
    "        self.mask1 = nn.Parameter(mask1, requires_grad=False)\n",
    "        self.t1 = torch.nn.ModuleList([nett1() for _ in range(len(mask1))])\n",
    "        self.s1 = torch.nn.ModuleList([nets1() for _ in range(len(mask1))])\n",
    "        \n",
    "        self.mask2 = nn.Parameter(mask2, requires_grad=False)\n",
    "        self.t2 = torch.nn.ModuleList([nett2() for _ in range(len(mask2))])\n",
    "        self.s2 = torch.nn.ModuleList([nets2() for _ in range(len(mask2))])\n",
    "        \n",
    "    def g(self, x1, x2):\n",
    "        # send to latent and predict (with Gaussian)\n",
    "        z1, z2, _ = self.f(x1, x2)\n",
    "        z2 = torch.matmul(self.pred_mat, z1.permute(1, 0)).permute(1, 0)\n",
    "        \n",
    "        z2_upper = z2 + 1.96 * torch.diag(self.cov_cond)\n",
    "        z2_lower = z2 - 1.96 * torch.diag(self.cov_cond)\n",
    "        z2 = torch.cat([z2, z2_upper, z2_lower], 0)\n",
    "        \n",
    "        x1_inv, x2 = torch.clone(z1), torch.clone(z2)\n",
    "        x1 = torch.cat([x1]*3, 0)\n",
    "        \n",
    "        for i in range(len(self.t1)):\n",
    "            x1_ = x1_inv * self.mask1[i]\n",
    "            s1 = self.s1[i](x1_)\n",
    "            t1 = self.t1[i](x1_)\n",
    "            x1_inv = x1_ + (1 - self.mask1[i]) * (x1_inv * torch.exp(s1) + t1)\n",
    "            \n",
    "        for i in range(len(self.t1)):\n",
    "            x2_ = x2 * self.mask2[i]\n",
    "            x2cond_ = torch.cat([x2_, x1], 1)\n",
    "            s2 = self.s2[i](x2cond_)\n",
    "            t2 = self.t2[i](x2cond_)\n",
    "            x2 = x2_ + (1 - self.mask2[i]) * (x2 * torch.exp(s2) + t2)\n",
    "            \n",
    "        return z1, z2, x1_inv, x2\n",
    "\n",
    "    def f(self, x1, x2):\n",
    "        log_det_J1, z1 = x1.new_zeros(x1.shape[0]), x1\n",
    "        for i in reversed(range(len(self.t1))):\n",
    "            z1_ = self.mask1[i] * z1\n",
    "            s1 = self.s1[i](z1_)\n",
    "            t1 = self.t1[i](z1_)\n",
    "            z1 = (1 - self.mask1[i]) * ((z1 - t1) * torch.exp(-s1)) + z1_\n",
    "            log_det_J1 -= s1.sum(dim=1)\n",
    "        \n",
    "        log_det_J2, z2 = x2.new_zeros(x2.shape[0]), x2\n",
    "        for i in reversed(range(len(self.t1))):\n",
    "            z2_ = self.mask2[i] * z2\n",
    "            z2cond_ = torch.cat([z2_, x1], 1)\n",
    "            s2 = self.s2[i](z2cond_)\n",
    "            t2 = self.t2[i](z2cond_)\n",
    "            z2 = (1 - self.mask2[i]) * ((z2 - t2) * torch.exp(-s2)) + z2_\n",
    "            log_det_J2 -= s2.sum(dim=1)\n",
    "        \n",
    "        return z1, z2, log_det_J1+log_det_J2\n",
    "    \n",
    "    def log_prob(self,x1,x2):\n",
    "        z1, z2, logp = self.f(x1, x2)\n",
    "        return self.prior1.log_prob(z1) + self.prior2.log_prob(z2) + logp"
   ]
  },
  {
   "cell_type": "code",
   "execution_count": null,
   "metadata": {},
   "outputs": [],
   "source": [
    "pred_len = 50\n",
    "\n",
    "nets1 = lambda: nn.Sequential(nn.Linear(length-pred_len, 1024), \n",
    "                             nn.LeakyReLU(), \n",
    "                             nn.Linear(1024, 1024), \n",
    "                             nn.LeakyReLU(), \n",
    "                             nn.Linear(1024, length-pred_len), \n",
    "                             nn.Tanh())\n",
    "nett1 = lambda: nn.Sequential(nn.Linear(length-pred_len, 1024), \n",
    "                             nn.LeakyReLU(), \n",
    "                             nn.Linear(1024, 1024), \n",
    "                             nn.LeakyReLU(), \n",
    "                             nn.Linear(1024, length-pred_len))\n",
    "\n",
    "nets2 = lambda: nn.Sequential(nn.Linear(length, 1024), \n",
    "                             nn.LeakyReLU(), \n",
    "                             nn.Linear(1024, 1024), \n",
    "                             nn.LeakyReLU(), \n",
    "                             nn.Linear(1024, pred_len), \n",
    "                             nn.Tanh())\n",
    "nett2 = lambda: nn.Sequential(nn.Linear(length, 1024), \n",
    "                             nn.LeakyReLU(), \n",
    "                             nn.Linear(1024, 1024), \n",
    "                             nn.LeakyReLU(), \n",
    "                             nn.Linear(1024, pred_len))\n",
    "\n",
    "mask1_x = [0]*((length - pred_len) // 2) + [1]*((length - pred_len) // 2)\n",
    "mask2_x = [1]*((length - pred_len) // 2) + [0]*((length - pred_len) // 2)\n",
    "mask1_y = [0]*(pred_len // 2) + [1]*(pred_len // 2)\n",
    "mask2_y = [1]*(pred_len // 2) + [0]*(pred_len // 2)\n",
    "masks_x = torch.from_numpy(np.array([mask1_x, mask2_x] * 10).astype(np.float32))\n",
    "masks_y = torch.from_numpy(np.array([mask1_y, mask2_y] * 10).astype(np.float32))\n",
    "\n",
    "# pred_mat = torch.matmul(true_cov[-pred_len:, :-pred_len], true_cov[:-pred_len, :-pred_len].inverse())\n",
    "# cov_cond = true_cov[-pred_len:, -pred_len:] - torch.matmul(pred_mat, true_cov[:-pred_len, -pred_len:])\n",
    "# prior1 = distributions.MultivariateNormal(torch.zeros(n-pred_len).cuda(), \n",
    "#                                           true_cov[:(n-pred_len), :(n-pred_len)].cuda())\n",
    "# prior2 = distributions.MultivariateNormal(torch.zeros(pred_len).cuda(), cov_cond.cuda())\n",
    "# prior1 = distributions.MultivariateNormal(torch.zeros(n-pred_len), \n",
    "#                                           true_cov[:(n-pred_len), :(n-pred_len)])\n",
    "# prior2 = distributions.MultivariateNormal(torch.zeros(pred_len), cov_cond)\n",
    "\n",
    "pred_mat = torch.matmul(est_cov[-pred_len:, :-pred_len], est_cov[:-pred_len, :-pred_len].inverse())\n",
    "cov_cond = est_cov[-pred_len:, -pred_len:] - torch.matmul(pred_mat, est_cov[:-pred_len, -pred_len:])\n",
    "# prior1 = distributions.MultivariateNormal(torch.zeros(length-pred_len).cuda(), \n",
    "#                                           est_cov[:-pred_len, :-pred_len].cuda())\n",
    "prior1 = distributions.MultivariateNormal(torch.zeros(length-pred_len), \n",
    "                                          est_cov[:-pred_len, :-pred_len])\n",
    "# TODO: change mean to conditional mean\n",
    "# prior2 = distributions.MultivariateNormal(torch.zeros(pred_len).cuda(), cov_cond.cuda()) \n",
    "prior2 = distributions.MultivariateNormal(torch.zeros(pred_len), cov_cond) \n",
    "\n",
    "\n",
    "flow = RealNVP(nets1, nett1, masks_x, nets2, nett2, masks_y, prior1, prior2, pred_mat, cov_cond, pred_len)\n",
    "# flow.to('cuda')"
   ]
  },
  {
   "cell_type": "code",
   "execution_count": null,
   "metadata": {},
   "outputs": [],
   "source": [
    "EPOCHS = 100\n",
    "\n",
    "optimizer = torch.optim.Adam([p for p in flow.parameters() if p.requires_grad==True], lr=1e-4)\n",
    "for epoch in range(EPOCHS):\n",
    "    train_loss = []\n",
    "    epoch_time = time.time()\n",
    "    curr_time = time.time()\n",
    "    \n",
    "    for i, (x1, x2, _) in enumerate(data_gen_init):\n",
    "        if i > 100:\n",
    "            break\n",
    "        x1, x2 = x1.cuda(), x2.cuda()\n",
    "        loss = -flow.log_prob(x1, x2).mean()\n",
    "        optimizer.zero_grad()\n",
    "        loss.backward(retain_graph=True)\n",
    "        optimizer.step()\n",
    "        \n",
    "        train_loss.append(loss.item())\n",
    "        if (i+1) % 10 == 0:\n",
    "            print('\\titers: {0}, epoch: {1} | loss: {2:.3f}'.format((i+1), epoch + 1, loss.item()))\n",
    "            speed = (time.time() - curr_time) / (i+1)\n",
    "            left_time = speed * ((EPOCHS - epoch) * 100 - (i+1))\n",
    "            print('\\tspeed: {:.4f}s/iter; left time: {:.4f}s'.format(speed, left_time))\n",
    "    \n",
    "    # compute average train loss\n",
    "    train_loss = np.average(train_loss)\n",
    "    print(\"epoch: {}, epoch time: {}, loss: {}\".format(epoch+1, time.time() - curr_time, train_loss))"
   ]
  },
  {
   "cell_type": "code",
   "execution_count": null,
   "metadata": {},
   "outputs": [],
   "source": [
    "torch.save(flow.state_dict(), './model_estcov.pt')\n",
    "torch.save(optimizer.state_dict(), './optim_estcov.pt')"
   ]
  },
  {
   "cell_type": "code",
   "execution_count": null,
   "metadata": {},
   "outputs": [],
   "source": [
    "flow.load_state_dict(torch.load('./model_estcov.pt'), strict=False)"
   ]
  },
  {
   "cell_type": "code",
   "execution_count": null,
   "metadata": {},
   "outputs": [],
   "source": [
    "torch.manual_seed(1)\n",
    "for (x, y, xy_truelatent) in data_gen_init:\n",
    "#     x, y = x.cuda(), y.cuda()\n",
    "    break\n",
    "# y_test = torch.zeros_like(y).cuda()\n",
    "y_test = torch.zeros_like(y)"
   ]
  },
  {
   "cell_type": "code",
   "execution_count": null,
   "metadata": {},
   "outputs": [],
   "source": [
    "flow.eval()\n",
    "\n",
    "# predict\n",
    "x_latent, y_latent, x_pred, y_pred = flow.g(x, y_test)"
   ]
  },
  {
   "cell_type": "code",
   "execution_count": null,
   "metadata": {},
   "outputs": [],
   "source": [
    "y_latent.shape"
   ]
  },
  {
   "cell_type": "code",
   "execution_count": null,
   "metadata": {},
   "outputs": [],
   "source": [
    "x_pred, y_pred = x_pred.detach().cpu().numpy(), y_pred.detach().cpu().numpy()\n",
    "x_latent, y_latent = x_latent.detach().cpu().numpy(), y_latent.detach().cpu().numpy()\n",
    "\n",
    "x_truelatent = xy_truelatent[:-len_pred].cpu().numpy()\n",
    "y_truelatent = xy_truelatent[-len_pred:].cpu().numpy()\n",
    "x = x.cpu().numpy()\n",
    "y = y.cpu().numpy()"
   ]
  },
  {
   "cell_type": "markdown",
   "metadata": {},
   "source": [
    "### Plot CI"
   ]
  },
  {
   "cell_type": "code",
   "execution_count": null,
   "metadata": {},
   "outputs": [],
   "source": [
    "torch.diag(cov_cond)"
   ]
  },
  {
   "cell_type": "code",
   "execution_count": null,
   "metadata": {},
   "outputs": [],
   "source": [
    "fig, axs = plt.subplots(3, 3, figsize=(10, 10))\n",
    "\n",
    "for i, ax in enumerate(axs.reshape(-1)):\n",
    "    ax.plot(y[i, :], color='red')\n",
    "    ax.plot(y_pred[i, :], color='orange')\n",
    "    ax.fill_between(range(50, ), y_pred[1000+i, :], y_pred[500+i, :], alpha=0.7)"
   ]
  },
  {
   "cell_type": "markdown",
   "metadata": {},
   "source": [
    "### ARIMA model"
   ]
  },
  {
   "cell_type": "code",
   "execution_count": null,
   "metadata": {},
   "outputs": [],
   "source": [
    "yhat_mat = np.empty((num_samples, pred_len))\n",
    "for i in tqdm(range(num_samples)):\n",
    "    history = list(x[i, :])\n",
    "    obs = list(y[i, :])\n",
    "    predictions = list()\n",
    "    # walk-forward validation\n",
    "    for t in range(len_pred):\n",
    "        model = ARIMA(history, order=(1,0,0))\n",
    "        model_fit = model.fit()\n",
    "        output = model_fit.forecast()\n",
    "        yhat = output[0]\n",
    "        predictions.append(yhat)\n",
    "        history.append(obs[t])\n",
    "    yhat_mat[i, :] = predictions"
   ]
  },
  {
   "cell_type": "markdown",
   "metadata": {},
   "source": [
    "### Test: APE and RMSE"
   ]
  },
  {
   "cell_type": "code",
   "execution_count": null,
   "metadata": {},
   "outputs": [],
   "source": [
    "np.median(((y_pred[:num_samples, :] - y)**2).mean(axis=1))"
   ]
  },
  {
   "cell_type": "code",
   "execution_count": null,
   "metadata": {},
   "outputs": [],
   "source": [
    "np.median(((yhat_mat - y)**2).mean(axis=1))"
   ]
  },
  {
   "cell_type": "code",
   "execution_count": null,
   "metadata": {},
   "outputs": [],
   "source": [
    "np.median(np.abs((y_pred[:num_samples, :] - y) / y).mean(axis=1))"
   ]
  },
  {
   "cell_type": "code",
   "execution_count": null,
   "metadata": {},
   "outputs": [],
   "source": [
    "np.median(np.abs((yhat_mat - y) / y).mean(axis=1))"
   ]
  },
  {
   "cell_type": "code",
   "execution_count": null,
   "metadata": {
    "scrolled": true
   },
   "outputs": [],
   "source": [
    "fig, axs = plt.subplots(5, 5, figsize=(15,15))\n",
    "ind = np.array(range(25)).reshape((5, 5))\n",
    "for i in range(5):\n",
    "    for j in range(5):\n",
    "        axs[i, j].plot(y[ind[i, j]+10, :])\n",
    "        axs[i, j].plot(y_pred[ind[i,j]+10, :])"
   ]
  },
  {
   "cell_type": "code",
   "execution_count": null,
   "metadata": {
    "scrolled": true
   },
   "outputs": [],
   "source": [
    "fig, axs = plt.subplots(5, 4, figsize=(15,15))\n",
    "for i in range(5):\n",
    "    if i == 0:\n",
    "        axs[i, 0].set_title('True y')\n",
    "        axs[i, 1].set_title('Predicted y')\n",
    "        axs[i, 2].set_title('Predicted latent z_2')\n",
    "        axs[i, 3].set_title('True latent z_2')\n",
    "    axs[i, 0].plot(y[i+10, :])\n",
    "    axs[i, 1].plot(y_pred[i+10, :])\n",
    "    axs[i, 2].plot(y_latent[i+10, :])\n",
    "    axs[i, 3].plot(y_truelatent[i+10, :])"
   ]
  },
  {
   "cell_type": "markdown",
   "metadata": {},
   "source": [
    "### Previous trials"
   ]
  },
  {
   "cell_type": "code",
   "execution_count": null,
   "metadata": {},
   "outputs": [],
   "source": [
    "# # predict last 24\n",
    "\n",
    "# test_data\n",
    "\n",
    "\n",
    "# for index in range(data_test.shape[0]):\n",
    "#     # pad with mean\n",
    "#     sample = np.concatenate((data_test[index, :-24], [np.mean(data_test[index, :-24])]*24))[np.newaxis, :]\n",
    "#     # iterate prediction step until convergence\n",
    "#     print('Index: {0}'.format(index))\n",
    "#     for i in range(5):\n",
    "#         z, logp = flow.f(torch.from_numpy(sample))\n",
    "#         print('\\tlog prob: {0:.4f}'.format(logp.item()))\n",
    "#         z = z.detach().numpy()[0]\n",
    "#         zhat = cov[-24:, :-24] @ np.linalg.inv(cov[:-24, :-24]) @ z[:-24]\n",
    "#         z = np.concatenate((z[:-24], zhat))\n",
    "#         sample = flow.g(torch.from_numpy(z[np.newaxis, :])).detach().numpy()\n",
    "#     # compute confidence band\n",
    "#     z_upper = np.concatenate((z[:-24], zhat + 2*np.sqrt(np.diag(pred_cov))))\n",
    "#     z_lower = np.concatenate((z[:-24], zhat - 2*np.sqrt(np.diag(pred_cov))))\n",
    "#     sample_upper = flow.g(torch.from_numpy(z_lower[np.newaxis, :])).detach().numpy()\n",
    "#     sample_lower = flow.g(torch.from_numpy(z_upper[np.newaxis, :])).detach().numpy()\n",
    "#     # save results\n",
    "#     pred[index, :] = sample[0, :]; pred_lower[index, :] = sample_lower[0, :]; pred_upper[index, :] = sample_upper[0, :]"
   ]
  },
  {
   "cell_type": "code",
   "execution_count": null,
   "metadata": {},
   "outputs": [],
   "source": [
    "# true = scaler.inverse_transform(data_test)[:, -24:]\n",
    "# pred = scaler.inverse_transform(pred)[:, -24:]\n",
    "# pred_lower = scaler.inverse_transform(pred_lower)[:, -24:]\n",
    "# pred_upper = scaler.inverse_transform(pred_upper)[:, -24:]\n",
    "# print(np.mean((true - pred)**2))"
   ]
  },
  {
   "cell_type": "code",
   "execution_count": null,
   "metadata": {},
   "outputs": [],
   "source": [
    "# index = 1\n",
    "# plt.plot(true[index, :], color='red')\n",
    "# plt.plot(pred[index, :], color='blue')\n",
    "# plt.plot(pred_lower[index, :], color='blue')\n",
    "# plt.plot(pred_upper[index, :], color='blue')"
   ]
  },
  {
   "cell_type": "code",
   "execution_count": null,
   "metadata": {},
   "outputs": [],
   "source": [
    "# plt.hist(np.mean((true-pred)**2, axis = 1))"
   ]
  },
  {
   "cell_type": "code",
   "execution_count": null,
   "metadata": {},
   "outputs": [],
   "source": []
  }
 ],
 "metadata": {
  "kernelspec": {
   "display_name": "Python 3 (ipykernel)",
   "language": "python",
   "name": "python3"
  },
  "language_info": {
   "codemirror_mode": {
    "name": "ipython",
    "version": 3
   },
   "file_extension": ".py",
   "mimetype": "text/x-python",
   "name": "python",
   "nbconvert_exporter": "python",
   "pygments_lexer": "ipython3",
   "version": "3.7.11"
  }
 },
 "nbformat": 4,
 "nbformat_minor": 4
}
