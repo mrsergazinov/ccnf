{
 "cells": [
  {
   "cell_type": "markdown",
   "metadata": {},
   "source": [
    "### Loading libs"
   ]
  },
  {
   "cell_type": "code",
   "execution_count": 1,
   "metadata": {},
   "outputs": [],
   "source": [
    "import torch\n",
    "import numpy as np\n",
    "import matplotlib.pyplot as plt\n",
    "import pandas as pd\n",
    "import time\n",
    "import os"
   ]
  },
  {
   "cell_type": "markdown",
   "metadata": {},
   "source": [
    "### Reading data"
   ]
  },
  {
   "cell_type": "code",
   "execution_count": 2,
   "metadata": {},
   "outputs": [],
   "source": [
    "dataset = pd.read_table(\"./LD2011_2014.txt\", sep =\";\")"
   ]
  },
  {
   "cell_type": "code",
   "execution_count": 3,
   "metadata": {},
   "outputs": [],
   "source": [
    "dataset = dataset.iloc[:, 1:].values.astype(np.float32)"
   ]
  },
  {
   "cell_type": "code",
   "execution_count": 4,
   "metadata": {},
   "outputs": [],
   "source": [
    "# convert to kwh\n",
    "dataset = dataset / 4 \n",
    "# sum up 15 minute intervals into 1 hour\n",
    "dataset_hourly = np.zeros((dataset.shape[0] // 4, dataset.shape[1]))\n",
    "for i in range(len(dataset_hourly)):\n",
    "    dataset_hourly[i, :] = np.sum(dataset[(i*4):(i*4+4), :], axis=0)"
   ]
  },
  {
   "cell_type": "code",
   "execution_count": 5,
   "metadata": {},
   "outputs": [],
   "source": [
    "dataset_dict = {}\n",
    "for k in range(dataset_hourly.shape[1]):\n",
    "    dataset_dict[k] = dataset_hourly[:, k]"
   ]
  },
  {
   "cell_type": "code",
   "execution_count": 6,
   "metadata": {},
   "outputs": [
    {
     "data": {
      "text/plain": [
       "1532.0"
      ]
     },
     "execution_count": 6,
     "metadata": {},
     "output_type": "execute_result"
    }
   ],
   "source": [
    "(dataset_dict[0].shape[0] - 32000) / 2"
   ]
  },
  {
   "cell_type": "code",
   "execution_count": 7,
   "metadata": {},
   "outputs": [],
   "source": [
    "TRAIN_LIM = 32000\n",
    "VAL_LIM = 32000 + 1532\n",
    "TEST_LIM = 32000 + 1532 + 1532\n",
    "\n",
    "# split into train / val / test\n",
    "dataset_train, dataset_val, dataset_test = {}, {}, {}\n",
    "for k in dataset_dict.keys():\n",
    "    dataset_test[k] = dataset_dict[k][VAL_LIM:TEST_LIM]\n",
    "    dataset_val[k] = dataset_dict[k][TRAIN_LIM:VAL_LIM]\n",
    "    dataset_train[k] = dataset_dict[k][:TRAIN_LIM]"
   ]
  },
  {
   "cell_type": "code",
   "execution_count": 8,
   "metadata": {},
   "outputs": [],
   "source": [
    "# min-max scaling for each subject separately\n",
    "scaler = {}\n",
    "for k in dataset_train.keys():\n",
    "    scaler[k] = (np.min(dataset_train[k]), np.max(dataset_train[k]))"
   ]
  },
  {
   "cell_type": "code",
   "execution_count": 9,
   "metadata": {},
   "outputs": [],
   "source": [
    "torch.save(dataset_train, './electricity_train.pt')\n",
    "torch.save(dataset_val, './electricity_val.pt')\n",
    "torch.save(dataset_test, './electricity_test.pt')\n",
    "torch.save(scaler, './electricity_scaler.pt')"
   ]
  },
  {
   "cell_type": "code",
   "execution_count": 14,
   "metadata": {},
   "outputs": [],
   "source": [
    "# def random_spaced(low, high, delta, n, size=None):\n",
    "#     \"\"\"\n",
    "#     Choose n random values between low and high, with minimum spacing delta.\n",
    "\n",
    "#     If size is None, one sample is returned.\n",
    "#     Set size=m (an integer) to return m samples.\n",
    "\n",
    "#     The values in each sample returned by random_spaced are in increasing\n",
    "#     order.\n",
    "#     \"\"\"\n",
    "#     empty_space = high - low - (n-1)*delta\n",
    "#     if empty_space < 0:\n",
    "#         raise ValueError(\"not possible\")\n",
    "\n",
    "#     if size is None:\n",
    "#         u = np.random.rand(n)\n",
    "#     else:\n",
    "#         u = np.random.rand(size, n)\n",
    "#     x = empty_space * np.sort(u, axis=-1)\n",
    "#     return low + x + delta * np.arange(n)"
   ]
  },
  {
   "cell_type": "code",
   "execution_count": 31,
   "metadata": {},
   "outputs": [],
   "source": [
    "# # length = 168 + 24\n",
    "# samples = 5\n",
    "# X = []\n",
    "# for j, k in enumerate(dataset_train.keys()):\n",
    "#     start = random_spaced(0, len(dataset_train[k])-length, \n",
    "#                             length*10, samples).astype(int)\n",
    "#     end = start + length\n",
    "#     for i in range(len(start)):\n",
    "#         if np.any(dataset_train[k][start[i]:end[i]] != 0):\n",
    "#             X.append(dataset_train[k][start[i]:end[i]])"
   ]
  },
  {
   "cell_type": "code",
   "execution_count": 34,
   "metadata": {},
   "outputs": [],
   "source": [
    "# X = np.matrix(X)"
   ]
  },
  {
   "cell_type": "code",
   "execution_count": 35,
   "metadata": {},
   "outputs": [
    {
     "data": {
      "text/plain": [
       "(1464, 192)"
      ]
     },
     "execution_count": 35,
     "metadata": {},
     "output_type": "execute_result"
    }
   ],
   "source": [
    "# X.shape"
   ]
  },
  {
   "cell_type": "code",
   "execution_count": 38,
   "metadata": {},
   "outputs": [],
   "source": [
    "# from scipy.stats import kendalltau\n",
    "# import itertools as it"
   ]
  },
  {
   "cell_type": "code",
   "execution_count": 39,
   "metadata": {},
   "outputs": [
    {
     "name": "stdout",
     "output_type": "stream",
     "text": [
      "Correlation estimation progress...\n"
     ]
    }
   ],
   "source": [
    "# values= []\n",
    "# print('Correlation estimation progress...')\n",
    "# for i, j in it.combinations(X.T, 2):\n",
    "#     values.append(kendalltau(i, j)[0])"
   ]
  },
  {
   "cell_type": "code",
   "execution_count": null,
   "metadata": {},
   "outputs": [],
   "source": []
  },
  {
   "cell_type": "code",
   "execution_count": 28,
   "metadata": {},
   "outputs": [
    {
     "data": {
      "text/plain": [
       "[<matplotlib.lines.Line2D at 0x7f747bf6b3d0>]"
      ]
     },
     "execution_count": 28,
     "metadata": {},
     "output_type": "execute_result"
    },
    {
     "data": {
      "image/png": "[encoded data removed]",
      "text/plain": [
       "<Figure size 432x288 with 1 Axes>"
      ]
     },
     "metadata": {
      "needs_background": "light"
     },
     "output_type": "display_data"
    }
   ],
   "source": [
    "plt.plot(dataset_train[10])"
   ]
  },
  {
   "cell_type": "code",
   "execution_count": null,
   "metadata": {},
   "outputs": [],
   "source": []
  },
  {
   "cell_type": "code",
   "execution_count": null,
   "metadata": {},
   "outputs": [],
   "source": [
    "# dataset_dict = {}\n",
    "# # select continuous segments with at-most 24 hours of 0's\n",
    "# for i in range(dataset_hourly.shape[1]):\n",
    "#     indices = np.argwhere(dataset_hourly[:, i] != 0).flatten()\n",
    "#     dataset_dict[i] = []\n",
    "#     segment = [indices[0]]\n",
    "#     for j in indices[1:]:\n",
    "#         if (j - segment[-1]) <= 24:\n",
    "#             segment += [segment[-1] + a for a in range(1, j - segment[-1])]\n",
    "#             segment.append(j)\n",
    "#         else:\n",
    "#             dataset_dict[i].append(segment)\n",
    "#             segment = [j]\n",
    "#     dataset_dict[i].append(segment)    "
   ]
  },
  {
   "cell_type": "code",
   "execution_count": null,
   "metadata": {},
   "outputs": [],
   "source": [
    "# # select only segments greater than 30 weeks (1 week = 168 hours)\n",
    "# for i in dataset_dict.keys():\n",
    "#     clean = []\n",
    "#     for segment in dataset_dict[i]:\n",
    "#         if (segment[-1] - segment[0] + 1) >= (30 * 168):\n",
    "#             clean.append(dataset_hourly[segment, i])\n",
    "#     dataset_dict[i] = clean"
   ]
  },
  {
   "cell_type": "code",
   "execution_count": null,
   "metadata": {},
   "outputs": [],
   "source": [
    "# # delete subjects with no segments left\n",
    "# ks = list(dataset_dict.keys())\n",
    "# for k in ks:\n",
    "#     if len(dataset_dict[k]) == 0:\n",
    "#         del dataset_dict[k]"
   ]
  },
  {
   "cell_type": "code",
   "execution_count": null,
   "metadata": {},
   "outputs": [],
   "source": []
  }
 ],
 "metadata": {
  "kernelspec": {
   "display_name": "Python 3 (ipykernel)",
   "language": "python",
   "name": "python3"
  },
  "language_info": {
   "codemirror_mode": {
    "name": "ipython",
    "version": 3
   },
   "file_extension": ".py",
   "mimetype": "text/x-python",
   "name": "python",
   "nbconvert_exporter": "python",
   "pygments_lexer": "ipython3",
   "version": "3.7.11"
  }
 },
 "nbformat": 4,
 "nbformat_minor": 4
}
